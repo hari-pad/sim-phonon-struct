{
 "cells": [
  {
   "cell_type": "code",
   "execution_count": 11,
   "metadata": {},
   "outputs": [],
   "source": [
    "#Import libraries and functions\n",
    "\n",
    "%matplotlib notebook\n",
    "import numpy as np\n",
    "import matplotlib.pyplot as plt\n",
    "import matplotlib.tri as tri\n",
    "import glob #pattern package to find filename\n",
    "from skimage.io import imread\n",
    "from scipy import ndimage\n",
    "from scipy.ndimage import shift\n",
    "from scipy.ndimage.measurements import center_of_mass\n",
    "from scipy.ndimage.interpolation import rotate\n",
    "from scipy.optimize import curve_fit"
   ]
  },
  {
   "cell_type": "code",
   "execution_count": 12,
   "metadata": {},
   "outputs": [],
   "source": [
    "#Lattice parameters\n",
    "\n",
    "a = 4.36138\n",
    "c = 40.92263\n",
    "\n",
    "lattice_para = np.array([[a, 0, 0], [a*np.cos(2*np.pi/3), a*np.sin(2*np.pi/3), 0], [0, 0, c]])\n",
    "\n",
    "ra = 4*np.pi/(np.sqrt(3)*a)\n",
    "rc = 2*np.pi/c\n",
    "\n",
    "rec_lattice_para = np.array([[ra*np.cos(np.pi/6), ra*np.sin(np.pi/6), 0], [ra*np.cos(5*np.pi/6), ra*np.sin(5*np.pi/6), 0], [0, 0, rc]])"
   ]
  },
  {
   "cell_type": "code",
   "execution_count": 8,
   "metadata": {},
   "outputs": [],
   "source": [
    "#Defining some functions\n",
    "\n",
    "##Functions that return Q, K, and q for a given h, k, l\n",
    "\n",
    "def Q(h, k, l):\n",
    "    return h*rec_lattice_para[0] + k*rec_lattice_para[1] + l*rec_lattice_para[2]\n",
    "\n",
    "def K(h, k, l):\n",
    "    d_test = 10 #this will store the minimum norm for comparison (10 is just an arbitrary number)\n",
    "    m_test = 1 #this will store the integer m corresponding to minimum norm\n",
    "    n_test = 1 #this will store the integer n corresponding to minimum norm\n",
    "    for m in np.arange(np.rint(h)-2, np.rint(h)+2, 1):\n",
    "        for n in np.arange(np.rint(k)-2, np.rint(k)+2, 1):\n",
    "            d = (h - m)**2 + (k - n)**2 - (h - m)*(k - n)\n",
    "            if d < d_test:\n",
    "                d_test = d\n",
    "                m_test = m\n",
    "                n_test = n\n",
    "    #print(d_test)\n",
    "    #print(m_test)\n",
    "    #print(n_test)\n",
    "    return m_test*rec_lattice_para[0] + n_test*rec_lattice_para[1] + np.rint(l)*rec_lattice_para[2]\n",
    "            \n",
    "def q(h, k, l):\n",
    "    return Q(h, k, l) - K(h, k, l) \n",
    "\n",
    "##Function that returns r = xa + yb + zc for a given x, y, z\n",
    "\n",
    "def R(x, y, z):\n",
    "    return x*lattice_para[0] + y*lattice_para[1] + z*lattice_para[2]\n",
    "\n",
    "##Exception for division by zero\n",
    "\n",
    "def div(n, d):\n",
    "    return n/d if d > 0.15 else 0\n",
    "\n",
    "def w(h, k, l):\n",
    "    return (np.linalg.norm(q(h, k, l)))**1\n",
    "\n",
    "def e_t(h, k, l):\n",
    "    e_t_temp = np.cross(q(h, k, l), [0, 0, 1])\n",
    "    if np.linalg.norm(e_t_temp) != 0:\n",
    "        return e_t_temp/np.linalg.norm(e_t_temp)\n",
    "    else:\n",
    "        return e_t_temp\n",
    "    \n",
    "def e_l(h, k, l):\n",
    "    e_l_temp = q(h, k, l)\n",
    "    if np.linalg.norm(e_l_temp) != 0:\n",
    "        return e_l_temp/np.linalg.norm(e_l_temp)\n",
    "    else:\n",
    "        return e_l_temp    \n",
    "\n",
    "##Function that outputs the structure factor\n",
    "\n",
    "def F(h, k, l, B, r):\n",
    "    f_sum = 0\n",
    "    for i in np.arange(0, np.shape(r)[0]): #sum over all the atoms in unit cell\n",
    "        f_sum = f_sum + np.exp(-B[i]*(np.linalg.norm(Q(h, k, l))**2))*np.dot(Q(h, k, l), e_l(h, k, l))*np.exp(-1j*np.dot(K(h, k, l), r[i]))\n",
    "    return f_sum    "
   ]
  },
  {
   "cell_type": "code",
   "execution_count": 9,
   "metadata": {},
   "outputs": [],
   "source": [
    "#Importing unit cell coordinates, phonon eigenvectors, and other material parameters\n",
    "\n",
    "B = [0.05, 0.05, 0.05]\n",
    "\n",
    "# e = 0.1*np.array([[R(1, 0, 0), R(1, 0, 0), R(1, 0, 0)],\n",
    "#               [R(0, 1, 0), R(0, 1, 0), R(0, 1, 0)],\n",
    "#               [R(-1, -1, 0), R(-1, -1, 0), R(-1, -1, 0)]])\n",
    "\n",
    "unit_r = np.array([R(0, 0, 0), R(2/3, 1/3, 1/3), R(1/3, 2/3, 2/3)])\n",
    "\n",
    "\n",
    "# e = np.array([[R(1, 0, 0), R(1, 0, 0), R(1, 0, 0), R(1, 0, 0), R(1, 0, 0), R(1, 0, 0), R(1, 0, 0), R(1, 0, 0), R(1, 0, 0), R(1, 0, 0), R(1, 0, 0), R(1, 0, 0), R(1, 0, 0), R(1, 0, 0), R(1, 0, 0), R(1, 0, 0), R(1, 0, 0), R(1, 0, 0), R(1, 0, 0), R(1, 0, 0), R(1, 0, 0)],\n",
    "#              [R(0, 1, 0), R(0, 1, 0), R(0, 1, 0), R(0, 1, 0), R(0, 1, 0), R(0, 1, 0), R(0, 1, 0), R(0, 1, 0), R(0, 1, 0), R(0, 1, 0), R(0, 1, 0), R(0, 1, 0), R(0, 1, 0), R(0, 1, 0), R(0, 1, 0), R(0, 1, 0), R(0, 1, 0), R(0, 1, 0), R(0, 1, 0), R(0, 1, 0), R(0, 1, 0)],\n",
    "#              [R(-1, 1, 0), R(-1, 1, 0), R(-1, 1, 0), R(-1, 1, 0), R(-1, 1, 0), R(-1, 1, 0), R(-1, 1, 0), R(-1, 1, 0), R(-1, 1, 0), R(-1, 1, 0), R(-1, 1, 0), R(-1, 1, 0), R(-1, 1, 0), R(-1, 1, 0), R(-1, 1, 0), R(-1, 1, 0), R(-1, 1, 0), R(-1, 1, 0), R(-1, 1, 0), R(-1, 1, 0), R(-1, 1, 0)]])\n",
    "\n",
    "# unit_r = np.array([R(0, 0, 0), R(0.67, 0.33, 0.33), R(0.33, 0.67, 0.67), R(0, 0, 0.42), R(0, 0, 0.57), R(0.67, 0.33, 0.75), R(0.67, 0.33, 0.91), R(0.33, 0.67, 0.09), R(0.33, 0.67, 0.24), R(0, 0, 0.13), R(0, 0, 0.86), R(0.67, 0.33, 0.47), R(0.67, 0.33, 0.2), R(0.33, 0.67, 0.8), R(0.33, 0.67, 0.53), R(0, 0, 0.3), R(0, 0, 0.7), R(0.67, 0.33, 0.63), R(0.67, 0.33, 0.04), R(0.33, 0.67, 0.96), R(0.33, 0.67, 0.37)])"
   ]
  },
  {
   "cell_type": "code",
   "execution_count": 10,
   "metadata": {
    "scrolled": false
   },
   "outputs": [
    {
     "ename": "NameError",
     "evalue": "name 'h_f' is not defined",
     "output_type": "error",
     "traceback": [
      "\u001b[1;31m---------------------------------------------------------------------------\u001b[0m",
      "\u001b[1;31mNameError\u001b[0m                                 Traceback (most recent call last)",
      "\u001b[1;32m<ipython-input-10-b73a82dee2c8>\u001b[0m in \u001b[0;36m<module>\u001b[1;34m\u001b[0m\n\u001b[0;32m      1\u001b[0m \u001b[1;31m##Create arrays with x, y for integer h, k, l\u001b[0m\u001b[1;33m\u001b[0m\u001b[1;33m\u001b[0m\u001b[1;33m\u001b[0m\u001b[0m\n\u001b[0;32m      2\u001b[0m \u001b[1;33m\u001b[0m\u001b[0m\n\u001b[1;32m----> 3\u001b[1;33m \u001b[0mdata_int\u001b[0m \u001b[1;33m=\u001b[0m \u001b[0mnp\u001b[0m\u001b[1;33m.\u001b[0m\u001b[0mzeros\u001b[0m\u001b[1;33m(\u001b[0m\u001b[1;33m(\u001b[0m\u001b[1;33m(\u001b[0m\u001b[0mh_f\u001b[0m\u001b[1;33m-\u001b[0m\u001b[0mh_i\u001b[0m\u001b[1;33m)\u001b[0m\u001b[1;33m*\u001b[0m\u001b[1;33m(\u001b[0m\u001b[0mk_f\u001b[0m\u001b[1;33m-\u001b[0m\u001b[0mk_i\u001b[0m\u001b[1;33m)\u001b[0m\u001b[1;33m,\u001b[0m\u001b[1;36m3\u001b[0m\u001b[1;33m)\u001b[0m\u001b[1;33m)\u001b[0m\u001b[1;33m\u001b[0m\u001b[1;33m\u001b[0m\u001b[0m\n\u001b[0m\u001b[0;32m      4\u001b[0m \u001b[1;33m\u001b[0m\u001b[0m\n\u001b[0;32m      5\u001b[0m \u001b[0mi\u001b[0m \u001b[1;33m=\u001b[0m \u001b[1;36m0\u001b[0m\u001b[1;33m\u001b[0m\u001b[1;33m\u001b[0m\u001b[0m\n",
      "\u001b[1;31mNameError\u001b[0m: name 'h_f' is not defined"
     ]
    }
   ],
   "source": [
    "##Create arrays with x, y for integer h, k, l\n",
    "\n",
    "data_int = np.zeros(((h_f-h_i)*(k_f-k_i),3))\n",
    "\n",
    "i = 0\n",
    "\n",
    "for h in np.arange(h_i, h_f, 1):\n",
    "    for k in np.arange(k_i, k_f, 1):\n",
    "        data_int[i] = [Q(h, k, 0)[0], Q(h, k, 0)[1], 0]\n",
    "        #print(data_int[i])\n",
    "        i = i + 1\n",
    "        \n",
    "x_int = data_int[:,0]\n",
    "y_int = data_int[:,1]\n",
    "\n",
    "##Create arrays with x, y for integer h, k, l satisfying Bragg condition\n",
    "\n",
    "data_int_bragg = np.zeros(((h_f-h_i)*(k_f-k_i),3))\n",
    "\n",
    "i = 0\n",
    "\n",
    "for h in np.arange(h_i, h_f, 1):\n",
    "    for k in np.arange(k_i, k_f, 1):\n",
    "        \n",
    "        ###Sum over phase factors to check for selection rule\n",
    "        temp_sum = 0\n",
    "        for j in np.arange(0, np.shape(unit_r)[0]): #sum over all the atoms in unit cell\n",
    "            temp_sum = temp_sum + np.exp(-1j*np.dot(K(h, k, 0), unit_r[j]))\n",
    "        \n",
    "        if np.abs(temp_sum) > 0.001:\n",
    "            data_int_bragg[i] = [Q(h, k, 0)[0], Q(h, k, 0)[1], 0]\n",
    "            #print(data_int[i])\n",
    "        i = i + 1\n",
    "\n",
    "x_int_bragg = data_int_bragg[:,0]\n",
    "y_int_bragg = data_int_bragg[:,1]\n",
    "\n",
    "##Create mesh of diffuse scattering intensity data for entire scattering space\n",
    "\n",
    "h_i = -5\n",
    "h_f = 5\n",
    "k_i = -5\n",
    "k_f = 5\n",
    "mesh = 250\n",
    "\n",
    "data = np.zeros((mesh*mesh,3))\n",
    "\n",
    "i = 0\n",
    "\n",
    "for h in np.arange(h_i, h_f, (h_f-h_i)/mesh):\n",
    "    for k in np.arange(k_i, k_f, (k_f-k_i)/mesh):\n",
    "        data[i] = [Q(h, k, 0)[0], Q(h, k, 0)[1], 0] \n",
    "        data[i,2] = div(np.abs(F(h, k, 0, B, unit_r)), w(h, k, 0))\n",
    "        i = i + 1\n",
    "\n",
    "x = data[:,0]\n",
    "y = data[:,1]\n",
    "z = data[:,2]\n",
    "\n",
    "##Plot total intensity\n",
    "\n",
    "fig1, ax1 = plt.subplots()\n",
    "\n",
    "tcf = ax1.tricontourf(x, y, z, levels = 20)\n",
    "fig1.colorbar(tcf)\n",
    "\n",
    "ax1.scatter(x_int_bragg, y_int_bragg, s = 1, color = 'w')\n",
    "\n",
    "plt.xlim(-5,5)\n",
    "plt.ylim(-5,5)\n",
    "\n",
    "ax1.set_aspect('equal')\n",
    "ax1.set_title('Simulated diffuse scattering')"
   ]
  },
  {
   "cell_type": "code",
   "execution_count": 462,
   "metadata": {},
   "outputs": [
    {
     "name": "stdout",
     "output_type": "stream",
     "text": [
      "9.544544831942309\n",
      "[ 4.03379638 -8.65024987  0.        ]\n",
      "[ -0.28812831 -14.47253344   0.        ]\n"
     ]
    }
   ],
   "source": [
    "print(w(5.2, 2.4, 0))\n",
    "print(q(5.2, 2.4, 0))\n",
    "print(q(0.2, 0.4, 0))"
   ]
  },
  {
   "cell_type": "code",
   "execution_count": 568,
   "metadata": {},
   "outputs": [
    {
     "data": {
      "text/plain": [
       "1.1503301082997064"
      ]
     },
     "execution_count": 568,
     "metadata": {},
     "output_type": "execute_result"
    }
   ],
   "source": [
    "np.dot(np.cross(q(1, 2.4, 3), [0, 0, 1]), Q(1.2, 3, 0))"
   ]
  },
  {
   "cell_type": "code",
   "execution_count": 361,
   "metadata": {},
   "outputs": [
    {
     "name": "stdout",
     "output_type": "stream",
     "text": [
      "[5 1]\n"
     ]
    }
   ],
   "source": [
    "a = np.array([[0, 1, 1], [1, 0, 0]])\n",
    "b = np.array([1, 2, 3])\n",
    "print(a.dot(b))"
   ]
  },
  {
   "cell_type": "code",
   "execution_count": 708,
   "metadata": {},
   "outputs": [
    {
     "name": "stdout",
     "output_type": "stream",
     "text": [
      "(1+0j)\n",
      "(2-1.2864981197413093e-15j)\n",
      "(3-1.929747179611964e-15j)\n"
     ]
    },
    {
     "data": {
      "text/plain": [
       "3.0"
      ]
     },
     "execution_count": 708,
     "metadata": {},
     "output_type": "execute_result"
    }
   ],
   "source": [
    "def F_test(h, k, l, B, r):\n",
    "    f_sum = 0\n",
    "    for i in np.arange(0, np.shape(r)[0]): #sum over all the atoms in unit cell\n",
    "        f_sum = f_sum + np.exp(-1j*np.dot(K(h, k, l), r[i]))\n",
    "        print(f_sum)\n",
    "    return f_sum    \n",
    "\n",
    "np.abs(F_test(3, 0, 0, B, unit_r))"
   ]
  },
  {
   "cell_type": "code",
   "execution_count": 701,
   "metadata": {},
   "outputs": [
    {
     "data": {
      "text/plain": [
       "array([-0.88420546+0.46709817j, -0.5       -0.8660254j ,\n",
       "       -0.76446804+0.64466163j])"
      ]
     },
     "execution_count": 701,
     "metadata": {},
     "output_type": "execute_result"
    }
   ],
   "source": [
    "np.exp(-1j*np.dot(K(1.1, 1.1, 0), unit_r))"
   ]
  },
  {
   "cell_type": "code",
   "execution_count": null,
   "metadata": {},
   "outputs": [],
   "source": []
  }
 ],
 "metadata": {
  "kernelspec": {
   "display_name": "Python 3",
   "language": "python",
   "name": "python3"
  },
  "language_info": {
   "codemirror_mode": {
    "name": "ipython",
    "version": 3
   },
   "file_extension": ".py",
   "mimetype": "text/x-python",
   "name": "python",
   "nbconvert_exporter": "python",
   "pygments_lexer": "ipython3",
   "version": "3.7.6"
  }
 },
 "nbformat": 4,
 "nbformat_minor": 4
}

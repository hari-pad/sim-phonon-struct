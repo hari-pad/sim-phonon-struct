{
 "cells": [
  {
   "cell_type": "code",
   "execution_count": 55,
   "metadata": {},
   "outputs": [],
   "source": [
    "#Import libraries and functions\n",
    "\n",
    "%matplotlib notebook\n",
    "import numpy as np\n",
    "import matplotlib.pyplot as plt\n",
    "import matplotlib.tri as tri\n",
    "import glob #pattern package to find filename\n",
    "from skimage.io import imread\n",
    "from scipy import ndimage\n",
    "from scipy.ndimage import shift\n",
    "from scipy.ndimage.measurements import center_of_mass\n",
    "from scipy.ndimage.interpolation import rotate\n",
    "from scipy.optimize import curve_fit\n",
    "from pymatgen.io.phonopy import get_ph_bs_symm_line"
   ]
  },
  {
   "cell_type": "code",
   "execution_count": 86,
   "metadata": {
    "scrolled": false
   },
   "outputs": [],
   "source": [
    "#Create triangular mesh\n",
    "\n",
    "##Define reciprocal space directions to generate q-mesh (see notes)\n",
    "\n",
    "a = np.array([0, 0, 0]) \n",
    "b = np.array([-4/9, -1/9, 5/9]) #this is (-1/3, 2/3) in hexagonal basis\n",
    "c = np.array([5/9, -1/9, -4/9]) #this is (2/3, 1/3) in hexagonal basis\n",
    "\n",
    "N = 161\n",
    "\n",
    "kmesh = np.zeros([N**2, 5])\n",
    "\n",
    "index = 0\n",
    "\n",
    "\n",
    "# ##This creates a triangular mesh\n",
    "\n",
    "# for i in range(0, N):\n",
    "#     for j in range(0, N):\n",
    "#         if i + j <= N-1:\n",
    "#             s = a + (b - a)*i/N + (c - a)*j/N\n",
    "#             kmesh[index] = [i, j, s[0], s[1], s[2]]\n",
    "#             index += 1\n",
    "\n",
    "# # print(kmesh)\n",
    "# kmesh = kmesh[~np.all(kmesh == 0, axis=1)] #removes all array elements that are zero\n",
    "# # print(kmesh)\n",
    "# # kmesh = np.around(kmesh, 3)\n",
    "\n",
    "##This creates a parallelogram mesh\n",
    "\n",
    "for i in range(0, N):\n",
    "    for j in range(0, N):\n",
    "        s = a + (b - a)*i/N + (c - a)*j/N\n",
    "        kmesh[index] = [i, j, s[0], s[1], s[2]]\n",
    "        index += 1\n",
    "\n",
    "##Sort q values so that it forms a connected path in q space: first goes from a to c, and then coils back\n",
    "\n",
    "for i in range(0, N):\n",
    "    temp = kmesh[kmesh[:,0] == i]\n",
    "    if i & 1:        \n",
    "        ind = np.argsort(-1*temp[:,1])\n",
    "        temp = temp[ind]\n",
    "        kmesh[kmesh[:,0] == i] = temp\n",
    "    else:\n",
    "        ind = np.argsort(temp[:,1])\n",
    "        temp = temp[ind]\n",
    "        kmesh[kmesh[:,0] == i] = temp\n",
    "\n",
    "# print(kmesh)"
   ]
  },
  {
   "cell_type": "code",
   "execution_count": 87,
   "metadata": {
    "scrolled": false
   },
   "outputs": [],
   "source": [
    "#transforming to hexagonal setting to check\n",
    "\n",
    "tr_mat = np.array([[1, -1, 0], [0, 1, -1], [1, 1, 1]])\n",
    "kmesh_hex = np.transpose(np.matmul(tr_mat, np.transpose(kmesh[:,2:5])))\n",
    "\n",
    "# k_hex = np.transpose(np.matmul(tr_mat, np.transpose([1/9, -2/9, 1/9])))\n",
    "                     \n",
    "# print(k_hex)\n",
    "# print(kmesh_hex)"
   ]
  },
  {
   "cell_type": "code",
   "execution_count": 88,
   "metadata": {
    "scrolled": false
   },
   "outputs": [],
   "source": [
    "#Transforming to Cartesian setting to check\n",
    "\n",
    "#Material-specific lattice parameters (in angstrom)\n",
    "\n",
    "a = 4.29\n",
    "c = 40.56\n",
    "\n",
    "lattice_para = np.array([[a*np.cos(0), a*np.sin(0), 0], \\\n",
    "                         [a*np.cos(2*np.pi/3), a*np.sin(2*np.pi/3), 0], \\\n",
    "                         [0, 0, c]])\n",
    "\n",
    "ra = 4*np.pi/(np.sqrt(3)*a)\n",
    "rc = 2*np.pi/c\n",
    "\n",
    "rec_lattice_para = np.array([[ra*np.cos(np.pi/6), ra*np.sin(np.pi/6), 0], \\\n",
    "                             [ra*np.cos(5*np.pi/6), ra*np.sin(5*np.pi/6), 0], \\\n",
    "                             [0, 0, rc]])\n",
    "def Q(h, k, l):\n",
    "    return h*rec_lattice_para[0] + k*rec_lattice_para[1] + l*rec_lattice_para[2]\n",
    "\n",
    "###converting from hexagonal to cartesian\n",
    "\n",
    "qmesh_cart = kmesh_hex*0\n",
    "\n",
    "for i in range(0, np.shape(qmesh_cart)[0]):\n",
    "    qmesh_cart[i] = Q(kmesh_hex[i, 0], kmesh_hex[i, 1], kmesh_hex[i, 2])\n",
    "    \n",
    "# print(qmesh_cart)"
   ]
  },
  {
   "cell_type": "code",
   "execution_count": 89,
   "metadata": {},
   "outputs": [],
   "source": [
    "path = 'C:/Users/Hari/OneDrive/Research/Ultrafast Optics/MnBi2Te4/phon_Hari/'\n",
    "\n",
    "np.savetxt(path + 'python_qpoints.txt', kmesh[:,2:5])  "
   ]
  },
  {
   "cell_type": "code",
   "execution_count": 90,
   "metadata": {},
   "outputs": [],
   "source": [
    "path = 'C:/Users/Hari/OneDrive/Research/Ultrafast Optics/SLAC/sim-phonon-struct/'\n",
    "\n",
    "np.savetxt(path + 'python_qpoints.txt', kmesh[:,2:5])  "
   ]
  },
  {
   "cell_type": "code",
   "execution_count": 91,
   "metadata": {},
   "outputs": [],
   "source": [
    "path = 'C:/Users/Hari/OneDrive/Research/Ultrafast Optics/SLAC/sim-phonon-struct/'\n",
    "\n",
    "np.savetxt(path + 'python_qpoints_hex.txt', kmesh_hex)  "
   ]
  },
  {
   "cell_type": "code",
   "execution_count": 40,
   "metadata": {},
   "outputs": [],
   "source": [
    "from pymatgen.io.phonopy import get_ph_bs_symm_line\n",
    "\n",
    "path = 'C:/Users/Hari/OneDrive/Research/Ultrafast Optics/MnBi2Te4/phon_Hari/'\n",
    "\n",
    "a = get_ph_bs_symm_line(path + \"qpoints.yaml\")"
   ]
  },
  {
   "cell_type": "code",
   "execution_count": 47,
   "metadata": {},
   "outputs": [],
   "source": [
    "a.band_reorder()     "
   ]
  },
  {
   "cell_type": "code",
   "execution_count": 48,
   "metadata": {},
   "outputs": [
    {
     "name": "stdout",
     "output_type": "stream",
     "text": [
      "(21, 1681, 7, 3)\n",
      "[4.38164543e-04 2.47342464e-03 3.82413274e-06]\n",
      "[-1.92296630e-03 -1.61617395e-03  3.82413274e-06]\n",
      "0.9374873352\n",
      "0.9374873352\n"
     ]
    }
   ],
   "source": [
    "print(np.shape(a.eigendisplacements))\n",
    "\n",
    "print(np.real(a.eigendisplacements[3,2,1]))\n",
    "\n",
    "print(np.real(a.eigendisplacements[3,82,1]))\n",
    "\n",
    "print(np.real(a.bands[3,2]))\n",
    "print(np.real(a.bands[3,82]))\n",
    "\n"
   ]
  },
  {
   "cell_type": "code",
   "execution_count": 20,
   "metadata": {},
   "outputs": [
    {
     "name": "stdout",
     "output_type": "stream",
     "text": [
      "[-0.44444444 -0.11111111  0.55555556]\n"
     ]
    }
   ],
   "source": [
    "hex_to_rh = 1/3*np.array([[2, 1, 1], [-1, 1, 1], [-1, -2, 1]])\n",
    "hkl_hex = np.array([-1/3, -2/3, 0])\n",
    "\n",
    "hkl_rh = np.matmul(hex_to_rh, np.transpose(hkl_hex))\n",
    "\n",
    "print(hkl_rh)"
   ]
  },
  {
   "cell_type": "code",
   "execution_count": null,
   "metadata": {},
   "outputs": [],
   "source": []
  }
 ],
 "metadata": {
  "kernelspec": {
   "display_name": "Python 3",
   "language": "python",
   "name": "python3"
  },
  "language_info": {
   "codemirror_mode": {
    "name": "ipython",
    "version": 3
   },
   "file_extension": ".py",
   "mimetype": "text/x-python",
   "name": "python",
   "nbconvert_exporter": "python",
   "pygments_lexer": "ipython3",
   "version": "3.7.6"
  }
 },
 "nbformat": 4,
 "nbformat_minor": 4
}
